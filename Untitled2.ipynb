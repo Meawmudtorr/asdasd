{
 "cells": [
  {
   "cell_type": "code",
   "execution_count": 2,
   "id": "ce5f61b1-2049-42fa-bfd1-a809105ff122",
   "metadata": {},
   "outputs": [
    {
     "name": "stdout",
     "output_type": "stream",
     "text": [
      "Mean RGB values: [170.73492101 125.56335635 143.71332857]\n"
     ]
    }
   ],
   "source": [
    "from PIL import Image\n",
    "import numpy as np\n",
    "\n",
    "def extract_rgb(image_path):\n",
    "    # เปิดภาพจากเส้นทางที่ให้มา\n",
    "    image = Image.open(image_path)\n",
    "    \n",
    "    # ตรวจสอบโหมดของภาพและแปลงเป็น RGB หากจำเป็น\n",
    "    if image.mode != 'RGB':\n",
    "        image = image.convert('RGB')\n",
    "    \n",
    "    # แปลงภาพเป็นอาร์เรย์ numpy\n",
    "    image_array = np.array(image)\n",
    "    \n",
    "    # ตรวจสอบว่าภาพมีช่องสี RGB หรือไม่\n",
    "    if image_array.ndim == 3 and image_array.shape[2] == 3:\n",
    "        # คำนวณค่าเฉลี่ย RGB ของภาพ\n",
    "        rgb_mean = image_array.mean(axis=(0, 1))\n",
    "    else:\n",
    "        # หากภาพไม่มีช่องสี RGB (เช่น ภาพขาวดำ) ให้ค่าสีเป็น None หรือค่าอื่นๆ\n",
    "        rgb_mean = [None, None, None]\n",
    "    \n",
    "    return rgb_mean\n",
    "\n",
    "# ตัวอย่างการทดสอบ\n",
    "image_path = 'C:/Users/User/Desktop/newcolor/new test.png'\n",
    "rgb_mean = extract_rgb(image_path)\n",
    "print(f'Mean RGB values: {rgb_mean}')\n"
   ]
  },
  {
   "cell_type": "code",
   "execution_count": null,
   "id": "07b9bc58-02db-4535-a2ac-789106ae48bd",
   "metadata": {},
   "outputs": [],
   "source": []
  }
 ],
 "metadata": {
  "kernelspec": {
   "display_name": "Python 3 (ipykernel)",
   "language": "python",
   "name": "python3"
  },
  "language_info": {
   "codemirror_mode": {
    "name": "ipython",
    "version": 3
   },
   "file_extension": ".py",
   "mimetype": "text/x-python",
   "name": "python",
   "nbconvert_exporter": "python",
   "pygments_lexer": "ipython3",
   "version": "3.12.3"
  }
 },
 "nbformat": 4,
 "nbformat_minor": 5
}
