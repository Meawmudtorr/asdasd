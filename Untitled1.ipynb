{
 "cells": [
  {
   "cell_type": "code",
   "execution_count": null,
   "id": "d91ad70d-b180-48c7-8596-42c80751d3fc",
   "metadata": {},
   "outputs": [],
   "source": [
    "import numpy as np\n",
    "from PIL import Image\n",
    "import joblib\n",
    "\n",
    "\n",
    "model = joblib.load('cr6_model.pkl')\n",
    "\n",
    "\n",
    "def extract_rgb(image_path):\n",
    "    image = Image.open(image_path)\n",
    "    rgb_mean = np.array(image).mean(axis=(0, 1))  \n",
    "    return rgb_mean\n",
    "\n",
    "\n",
    "def predict_concentration(image_path):\n",
    "    rgb = extract_rgb(image_path)\n",
    "    prediction = model.predict([rgb])[0]\n",
    "    return prediction\n",
    "\n",
    "\n",
    "test_image_path = 'C:\\\\Users\\\\User\\\\Desktop\\\\newcolor\\\\pink.png'  # ใช้ path ของไฟล์ภาพที่คุณต้องการทดสอบ\n",
    "\n",
    "\n",
    "predicted_concentration = predict_concentration(test_image_path)\n",
    "\n",
    "print(f'Predicted Cr6+ concentration: {predicted_concentration} mg/L')\n"
   ]
  },
  {
   "cell_type": "code",
   "execution_count": null,
   "id": "b387cb09-4e09-42b9-b14f-e4db3baf304f",
   "metadata": {},
   "outputs": [],
   "source": []
  }
 ],
 "metadata": {
  "kernelspec": {
   "display_name": "Python 3 (ipykernel)",
   "language": "python",
   "name": "python3"
  },
  "language_info": {
   "codemirror_mode": {
    "name": "ipython",
    "version": 3
   },
   "file_extension": ".py",
   "mimetype": "text/x-python",
   "name": "python",
   "nbconvert_exporter": "python",
   "pygments_lexer": "ipython3",
   "version": "3.12.3"
  }
 },
 "nbformat": 4,
 "nbformat_minor": 5
}
